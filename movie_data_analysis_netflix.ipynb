{
  "cells": [
    {
      "cell_type": "markdown",
      "metadata": {
        "id": "view-in-github",
        "colab_type": "text"
      },
      "source": [
        "<a href=\"https://colab.research.google.com/github/a-student-for-life/GoogleColabMLProjects/blob/main/movie_data_analysis_netflix.ipynb\" target=\"_parent\"><img src=\"https://colab.research.google.com/assets/colab-badge.svg\" alt=\"Open In Colab\"/></a>"
      ]
    },
    {
      "cell_type": "code",
      "execution_count": null,
      "id": "b0bae108-4b6d-4b23-ad03-280833f5cd61",
      "metadata": {
        "id": "b0bae108-4b6d-4b23-ad03-280833f5cd61"
      },
      "outputs": [],
      "source": [
        "import numpy as mp\n",
        "import pandas as pd\n",
        "import matplotlib.pyplot as plt\n",
        "import seaborn as sns"
      ]
    },
    {
      "cell_type": "code",
      "execution_count": null,
      "id": "08fcb6ee-dfe6-4f00-88db-2d0c5d2c2151",
      "metadata": {
        "id": "08fcb6ee-dfe6-4f00-88db-2d0c5d2c2151"
      },
      "outputs": [],
      "source": [
        "df = pd.read_csv('mymoviedb.csv', lineterminator = '\\n' )"
      ]
    },
    {
      "cell_type": "code",
      "execution_count": null,
      "id": "65228aaf-fda0-4526-bb53-e3efecc539e6",
      "metadata": {
        "id": "65228aaf-fda0-4526-bb53-e3efecc539e6",
        "outputId": "efd37298-a678-4dc5-ca96-b5a4dd53e76c"
      },
      "outputs": [
        {
          "data": {
            "text/html": [
              "<div>\n",
              "<style scoped>\n",
              "    .dataframe tbody tr th:only-of-type {\n",
              "        vertical-align: middle;\n",
              "    }\n",
              "\n",
              "    .dataframe tbody tr th {\n",
              "        vertical-align: top;\n",
              "    }\n",
              "\n",
              "    .dataframe thead th {\n",
              "        text-align: right;\n",
              "    }\n",
              "</style>\n",
              "<table border=\"1\" class=\"dataframe\">\n",
              "  <thead>\n",
              "    <tr style=\"text-align: right;\">\n",
              "      <th></th>\n",
              "      <th>Release_Date</th>\n",
              "      <th>Title</th>\n",
              "      <th>Overview</th>\n",
              "      <th>Popularity</th>\n",
              "      <th>Vote_Count</th>\n",
              "      <th>Vote_Average</th>\n",
              "      <th>Original_Language</th>\n",
              "      <th>Genre</th>\n",
              "      <th>Poster_Url</th>\n",
              "    </tr>\n",
              "  </thead>\n",
              "  <tbody>\n",
              "    <tr>\n",
              "      <th>0</th>\n",
              "      <td>2021-12-15</td>\n",
              "      <td>Spider-Man: No Way Home</td>\n",
              "      <td>Peter Parker is unmasked and no longer able to...</td>\n",
              "      <td>5083.954</td>\n",
              "      <td>8940</td>\n",
              "      <td>8.3</td>\n",
              "      <td>en</td>\n",
              "      <td>Action, Adventure, Science Fiction</td>\n",
              "      <td>https://image.tmdb.org/t/p/original/1g0dhYtq4i...</td>\n",
              "    </tr>\n",
              "    <tr>\n",
              "      <th>1</th>\n",
              "      <td>2022-03-01</td>\n",
              "      <td>The Batman</td>\n",
              "      <td>In his second year of fighting crime, Batman u...</td>\n",
              "      <td>3827.658</td>\n",
              "      <td>1151</td>\n",
              "      <td>8.1</td>\n",
              "      <td>en</td>\n",
              "      <td>Crime, Mystery, Thriller</td>\n",
              "      <td>https://image.tmdb.org/t/p/original/74xTEgt7R3...</td>\n",
              "    </tr>\n",
              "    <tr>\n",
              "      <th>2</th>\n",
              "      <td>2022-02-25</td>\n",
              "      <td>No Exit</td>\n",
              "      <td>Stranded at a rest stop in the mountains durin...</td>\n",
              "      <td>2618.087</td>\n",
              "      <td>122</td>\n",
              "      <td>6.3</td>\n",
              "      <td>en</td>\n",
              "      <td>Thriller</td>\n",
              "      <td>https://image.tmdb.org/t/p/original/vDHsLnOWKl...</td>\n",
              "    </tr>\n",
              "    <tr>\n",
              "      <th>3</th>\n",
              "      <td>2021-11-24</td>\n",
              "      <td>Encanto</td>\n",
              "      <td>The tale of an extraordinary family, the Madri...</td>\n",
              "      <td>2402.201</td>\n",
              "      <td>5076</td>\n",
              "      <td>7.7</td>\n",
              "      <td>en</td>\n",
              "      <td>Animation, Comedy, Family, Fantasy</td>\n",
              "      <td>https://image.tmdb.org/t/p/original/4j0PNHkMr5...</td>\n",
              "    </tr>\n",
              "    <tr>\n",
              "      <th>4</th>\n",
              "      <td>2021-12-22</td>\n",
              "      <td>The King's Man</td>\n",
              "      <td>As a collection of history's worst tyrants and...</td>\n",
              "      <td>1895.511</td>\n",
              "      <td>1793</td>\n",
              "      <td>7.0</td>\n",
              "      <td>en</td>\n",
              "      <td>Action, Adventure, Thriller, War</td>\n",
              "      <td>https://image.tmdb.org/t/p/original/aq4Pwv5Xeu...</td>\n",
              "    </tr>\n",
              "  </tbody>\n",
              "</table>\n",
              "</div>"
            ],
            "text/plain": [
              "  Release_Date                    Title  \\\n",
              "0   2021-12-15  Spider-Man: No Way Home   \n",
              "1   2022-03-01               The Batman   \n",
              "2   2022-02-25                  No Exit   \n",
              "3   2021-11-24                  Encanto   \n",
              "4   2021-12-22           The King's Man   \n",
              "\n",
              "                                            Overview  Popularity  Vote_Count  \\\n",
              "0  Peter Parker is unmasked and no longer able to...    5083.954        8940   \n",
              "1  In his second year of fighting crime, Batman u...    3827.658        1151   \n",
              "2  Stranded at a rest stop in the mountains durin...    2618.087         122   \n",
              "3  The tale of an extraordinary family, the Madri...    2402.201        5076   \n",
              "4  As a collection of history's worst tyrants and...    1895.511        1793   \n",
              "\n",
              "   Vote_Average Original_Language                               Genre  \\\n",
              "0           8.3                en  Action, Adventure, Science Fiction   \n",
              "1           8.1                en            Crime, Mystery, Thriller   \n",
              "2           6.3                en                            Thriller   \n",
              "3           7.7                en  Animation, Comedy, Family, Fantasy   \n",
              "4           7.0                en    Action, Adventure, Thriller, War   \n",
              "\n",
              "                                          Poster_Url  \n",
              "0  https://image.tmdb.org/t/p/original/1g0dhYtq4i...  \n",
              "1  https://image.tmdb.org/t/p/original/74xTEgt7R3...  \n",
              "2  https://image.tmdb.org/t/p/original/vDHsLnOWKl...  \n",
              "3  https://image.tmdb.org/t/p/original/4j0PNHkMr5...  \n",
              "4  https://image.tmdb.org/t/p/original/aq4Pwv5Xeu...  "
            ]
          },
          "execution_count": 5,
          "metadata": {},
          "output_type": "execute_result"
        }
      ],
      "source": [
        "df.head()"
      ]
    },
    {
      "cell_type": "code",
      "execution_count": null,
      "id": "6a88076d-08b6-44cc-ac71-73643b50d91a",
      "metadata": {
        "id": "6a88076d-08b6-44cc-ac71-73643b50d91a",
        "outputId": "b808cce9-7647-4f0d-d366-f42b42e33c78"
      },
      "outputs": [
        {
          "name": "stdout",
          "output_type": "stream",
          "text": [
            "<class 'pandas.core.frame.DataFrame'>\n",
            "RangeIndex: 9827 entries, 0 to 9826\n",
            "Data columns (total 9 columns):\n",
            " #   Column             Non-Null Count  Dtype  \n",
            "---  ------             --------------  -----  \n",
            " 0   Release_Date       9827 non-null   object \n",
            " 1   Title              9827 non-null   object \n",
            " 2   Overview           9827 non-null   object \n",
            " 3   Popularity         9827 non-null   float64\n",
            " 4   Vote_Count         9827 non-null   int64  \n",
            " 5   Vote_Average       9827 non-null   float64\n",
            " 6   Original_Language  9827 non-null   object \n",
            " 7   Genre              9827 non-null   object \n",
            " 8   Poster_Url         9827 non-null   object \n",
            "dtypes: float64(2), int64(1), object(6)\n",
            "memory usage: 691.1+ KB\n"
          ]
        }
      ],
      "source": [
        "df.info()"
      ]
    },
    {
      "cell_type": "code",
      "execution_count": null,
      "id": "174dce55-e9d9-465c-b624-1041d19e3f05",
      "metadata": {
        "id": "174dce55-e9d9-465c-b624-1041d19e3f05",
        "outputId": "d6c3f0e5-3138-4d9c-c522-6406be26d227"
      },
      "outputs": [
        {
          "data": {
            "text/plain": [
              "0    Action, Adventure, Science Fiction\n",
              "1              Crime, Mystery, Thriller\n",
              "2                              Thriller\n",
              "3    Animation, Comedy, Family, Fantasy\n",
              "4      Action, Adventure, Thriller, War\n",
              "Name: Genre, dtype: object"
            ]
          },
          "execution_count": 7,
          "metadata": {},
          "output_type": "execute_result"
        }
      ],
      "source": [
        "df['Genre'].head()"
      ]
    },
    {
      "cell_type": "code",
      "execution_count": null,
      "id": "bb2181e3-b576-4763-b723-1cf1487f8f1f",
      "metadata": {
        "id": "bb2181e3-b576-4763-b723-1cf1487f8f1f",
        "outputId": "c903f5e6-3ca8-4513-8e48-f0a56c84a614"
      },
      "outputs": [
        {
          "data": {
            "text/plain": [
              "0"
            ]
          },
          "execution_count": 8,
          "metadata": {},
          "output_type": "execute_result"
        }
      ],
      "source": [
        "df.duplicated().sum()\n"
      ]
    },
    {
      "cell_type": "code",
      "execution_count": null,
      "id": "d8c58091-3db3-49bf-bcff-ff4a15542196",
      "metadata": {
        "id": "d8c58091-3db3-49bf-bcff-ff4a15542196",
        "outputId": "c40256d9-4386-44d4-e02c-8764dd7093ff"
      },
      "outputs": [
        {
          "data": {
            "text/html": [
              "<div>\n",
              "<style scoped>\n",
              "    .dataframe tbody tr th:only-of-type {\n",
              "        vertical-align: middle;\n",
              "    }\n",
              "\n",
              "    .dataframe tbody tr th {\n",
              "        vertical-align: top;\n",
              "    }\n",
              "\n",
              "    .dataframe thead th {\n",
              "        text-align: right;\n",
              "    }\n",
              "</style>\n",
              "<table border=\"1\" class=\"dataframe\">\n",
              "  <thead>\n",
              "    <tr style=\"text-align: right;\">\n",
              "      <th></th>\n",
              "      <th>Popularity</th>\n",
              "      <th>Vote_Count</th>\n",
              "      <th>Vote_Average</th>\n",
              "    </tr>\n",
              "  </thead>\n",
              "  <tbody>\n",
              "    <tr>\n",
              "      <th>count</th>\n",
              "      <td>9827.000000</td>\n",
              "      <td>9827.000000</td>\n",
              "      <td>9827.000000</td>\n",
              "    </tr>\n",
              "    <tr>\n",
              "      <th>mean</th>\n",
              "      <td>40.326088</td>\n",
              "      <td>1392.805536</td>\n",
              "      <td>6.439534</td>\n",
              "    </tr>\n",
              "    <tr>\n",
              "      <th>std</th>\n",
              "      <td>108.873998</td>\n",
              "      <td>2611.206907</td>\n",
              "      <td>1.129759</td>\n",
              "    </tr>\n",
              "    <tr>\n",
              "      <th>min</th>\n",
              "      <td>13.354000</td>\n",
              "      <td>0.000000</td>\n",
              "      <td>0.000000</td>\n",
              "    </tr>\n",
              "    <tr>\n",
              "      <th>25%</th>\n",
              "      <td>16.128500</td>\n",
              "      <td>146.000000</td>\n",
              "      <td>5.900000</td>\n",
              "    </tr>\n",
              "    <tr>\n",
              "      <th>50%</th>\n",
              "      <td>21.199000</td>\n",
              "      <td>444.000000</td>\n",
              "      <td>6.500000</td>\n",
              "    </tr>\n",
              "    <tr>\n",
              "      <th>75%</th>\n",
              "      <td>35.191500</td>\n",
              "      <td>1376.000000</td>\n",
              "      <td>7.100000</td>\n",
              "    </tr>\n",
              "    <tr>\n",
              "      <th>max</th>\n",
              "      <td>5083.954000</td>\n",
              "      <td>31077.000000</td>\n",
              "      <td>10.000000</td>\n",
              "    </tr>\n",
              "  </tbody>\n",
              "</table>\n",
              "</div>"
            ],
            "text/plain": [
              "        Popularity    Vote_Count  Vote_Average\n",
              "count  9827.000000   9827.000000   9827.000000\n",
              "mean     40.326088   1392.805536      6.439534\n",
              "std     108.873998   2611.206907      1.129759\n",
              "min      13.354000      0.000000      0.000000\n",
              "25%      16.128500    146.000000      5.900000\n",
              "50%      21.199000    444.000000      6.500000\n",
              "75%      35.191500   1376.000000      7.100000\n",
              "max    5083.954000  31077.000000     10.000000"
            ]
          },
          "execution_count": 9,
          "metadata": {},
          "output_type": "execute_result"
        }
      ],
      "source": [
        "df.describe()"
      ]
    },
    {
      "cell_type": "markdown",
      "id": "7971e3bb-543b-475c-8518-3e7c8ee88273",
      "metadata": {
        "id": "7971e3bb-543b-475c-8518-3e7c8ee88273"
      },
      "source": [
        "Exploration Summary\n",
        "\n",
        "we have a dataframe consisting of 9827 rows and 9 columns.\n",
        "our dataset looks a bit tidy with no NaNs nor duplicated values.\n",
        "Release_Date column needs to be casted into date time and to extract only the year value.\n",
        "Overview, Original_language and Poster-Url wouldn't be so useful during analysis, so we'll  drop them.\n",
        "there is noticeable outliers in Popularity column\n",
        "Vote_Average better be categorized for proper analysis.\n",
        "Genre column has comma separated values and white spaces that needs to be handled and casted into category.Exploration Summary."
      ]
    },
    {
      "cell_type": "code",
      "execution_count": null,
      "id": "63768bc0-abfe-49a5-b07b-4367293b9d9e",
      "metadata": {
        "id": "63768bc0-abfe-49a5-b07b-4367293b9d9e",
        "outputId": "883e57af-754a-4f7d-a7af-13b5228fb801"
      },
      "outputs": [
        {
          "data": {
            "text/html": [
              "<div>\n",
              "<style scoped>\n",
              "    .dataframe tbody tr th:only-of-type {\n",
              "        vertical-align: middle;\n",
              "    }\n",
              "\n",
              "    .dataframe tbody tr th {\n",
              "        vertical-align: top;\n",
              "    }\n",
              "\n",
              "    .dataframe thead th {\n",
              "        text-align: right;\n",
              "    }\n",
              "</style>\n",
              "<table border=\"1\" class=\"dataframe\">\n",
              "  <thead>\n",
              "    <tr style=\"text-align: right;\">\n",
              "      <th></th>\n",
              "      <th>Release_Date</th>\n",
              "      <th>Title</th>\n",
              "      <th>Overview</th>\n",
              "      <th>Popularity</th>\n",
              "      <th>Vote_Count</th>\n",
              "      <th>Vote_Average</th>\n",
              "      <th>Original_Language</th>\n",
              "      <th>Genre</th>\n",
              "      <th>Poster_Url</th>\n",
              "    </tr>\n",
              "  </thead>\n",
              "  <tbody>\n",
              "    <tr>\n",
              "      <th>0</th>\n",
              "      <td>2021-12-15</td>\n",
              "      <td>Spider-Man: No Way Home</td>\n",
              "      <td>Peter Parker is unmasked and no longer able to...</td>\n",
              "      <td>5083.954</td>\n",
              "      <td>8940</td>\n",
              "      <td>8.3</td>\n",
              "      <td>en</td>\n",
              "      <td>Action, Adventure, Science Fiction</td>\n",
              "      <td>https://image.tmdb.org/t/p/original/1g0dhYtq4i...</td>\n",
              "    </tr>\n",
              "    <tr>\n",
              "      <th>1</th>\n",
              "      <td>2022-03-01</td>\n",
              "      <td>The Batman</td>\n",
              "      <td>In his second year of fighting crime, Batman u...</td>\n",
              "      <td>3827.658</td>\n",
              "      <td>1151</td>\n",
              "      <td>8.1</td>\n",
              "      <td>en</td>\n",
              "      <td>Crime, Mystery, Thriller</td>\n",
              "      <td>https://image.tmdb.org/t/p/original/74xTEgt7R3...</td>\n",
              "    </tr>\n",
              "    <tr>\n",
              "      <th>2</th>\n",
              "      <td>2022-02-25</td>\n",
              "      <td>No Exit</td>\n",
              "      <td>Stranded at a rest stop in the mountains durin...</td>\n",
              "      <td>2618.087</td>\n",
              "      <td>122</td>\n",
              "      <td>6.3</td>\n",
              "      <td>en</td>\n",
              "      <td>Thriller</td>\n",
              "      <td>https://image.tmdb.org/t/p/original/vDHsLnOWKl...</td>\n",
              "    </tr>\n",
              "    <tr>\n",
              "      <th>3</th>\n",
              "      <td>2021-11-24</td>\n",
              "      <td>Encanto</td>\n",
              "      <td>The tale of an extraordinary family, the Madri...</td>\n",
              "      <td>2402.201</td>\n",
              "      <td>5076</td>\n",
              "      <td>7.7</td>\n",
              "      <td>en</td>\n",
              "      <td>Animation, Comedy, Family, Fantasy</td>\n",
              "      <td>https://image.tmdb.org/t/p/original/4j0PNHkMr5...</td>\n",
              "    </tr>\n",
              "    <tr>\n",
              "      <th>4</th>\n",
              "      <td>2021-12-22</td>\n",
              "      <td>The King's Man</td>\n",
              "      <td>As a collection of history's worst tyrants and...</td>\n",
              "      <td>1895.511</td>\n",
              "      <td>1793</td>\n",
              "      <td>7.0</td>\n",
              "      <td>en</td>\n",
              "      <td>Action, Adventure, Thriller, War</td>\n",
              "      <td>https://image.tmdb.org/t/p/original/aq4Pwv5Xeu...</td>\n",
              "    </tr>\n",
              "  </tbody>\n",
              "</table>\n",
              "</div>"
            ],
            "text/plain": [
              "  Release_Date                    Title  \\\n",
              "0   2021-12-15  Spider-Man: No Way Home   \n",
              "1   2022-03-01               The Batman   \n",
              "2   2022-02-25                  No Exit   \n",
              "3   2021-11-24                  Encanto   \n",
              "4   2021-12-22           The King's Man   \n",
              "\n",
              "                                            Overview  Popularity  Vote_Count  \\\n",
              "0  Peter Parker is unmasked and no longer able to...    5083.954        8940   \n",
              "1  In his second year of fighting crime, Batman u...    3827.658        1151   \n",
              "2  Stranded at a rest stop in the mountains durin...    2618.087         122   \n",
              "3  The tale of an extraordinary family, the Madri...    2402.201        5076   \n",
              "4  As a collection of history's worst tyrants and...    1895.511        1793   \n",
              "\n",
              "   Vote_Average Original_Language                               Genre  \\\n",
              "0           8.3                en  Action, Adventure, Science Fiction   \n",
              "1           8.1                en            Crime, Mystery, Thriller   \n",
              "2           6.3                en                            Thriller   \n",
              "3           7.7                en  Animation, Comedy, Family, Fantasy   \n",
              "4           7.0                en    Action, Adventure, Thriller, War   \n",
              "\n",
              "                                          Poster_Url  \n",
              "0  https://image.tmdb.org/t/p/original/1g0dhYtq4i...  \n",
              "1  https://image.tmdb.org/t/p/original/74xTEgt7R3...  \n",
              "2  https://image.tmdb.org/t/p/original/vDHsLnOWKl...  \n",
              "3  https://image.tmdb.org/t/p/original/4j0PNHkMr5...  \n",
              "4  https://image.tmdb.org/t/p/original/aq4Pwv5Xeu...  "
            ]
          },
          "execution_count": 10,
          "metadata": {},
          "output_type": "execute_result"
        }
      ],
      "source": [
        "df.head()"
      ]
    },
    {
      "cell_type": "code",
      "execution_count": null,
      "id": "a1c61401-3a4c-4f26-8105-2a6cfee45bce",
      "metadata": {
        "id": "a1c61401-3a4c-4f26-8105-2a6cfee45bce"
      },
      "outputs": [],
      "source": [
        "df['Release_Date'] = pd.to_datetime(df['Release_Date'])"
      ]
    },
    {
      "cell_type": "code",
      "execution_count": null,
      "id": "62ec19d0-a5f4-4360-bfcd-09f80ed3bf95",
      "metadata": {
        "id": "62ec19d0-a5f4-4360-bfcd-09f80ed3bf95",
        "outputId": "79163cba-e10b-44ca-a648-0fece904bdcf"
      },
      "outputs": [
        {
          "name": "stdout",
          "output_type": "stream",
          "text": [
            "datetime64[ns]\n"
          ]
        }
      ],
      "source": [
        "print(df['Release_Date'].dtypes)"
      ]
    },
    {
      "cell_type": "code",
      "execution_count": null,
      "id": "119c929c-136a-4111-8508-00d34bf105de",
      "metadata": {
        "id": "119c929c-136a-4111-8508-00d34bf105de",
        "outputId": "0bac9ce9-4a49-43d7-b5c0-7e2c842f0fcc"
      },
      "outputs": [
        {
          "data": {
            "text/plain": [
              "dtype('int32')"
            ]
          },
          "execution_count": 13,
          "metadata": {},
          "output_type": "execute_result"
        }
      ],
      "source": [
        "df['Release_Date'] = df['Release_Date'].dt.year\n",
        "df['Release_Date'].dtypes"
      ]
    },
    {
      "cell_type": "code",
      "execution_count": null,
      "id": "aeee2494-dedd-457e-962a-f30ed8238aa8",
      "metadata": {
        "id": "aeee2494-dedd-457e-962a-f30ed8238aa8",
        "outputId": "19c48109-8797-4ffe-a609-e7578b5b6c97"
      },
      "outputs": [
        {
          "data": {
            "text/html": [
              "<div>\n",
              "<style scoped>\n",
              "    .dataframe tbody tr th:only-of-type {\n",
              "        vertical-align: middle;\n",
              "    }\n",
              "\n",
              "    .dataframe tbody tr th {\n",
              "        vertical-align: top;\n",
              "    }\n",
              "\n",
              "    .dataframe thead th {\n",
              "        text-align: right;\n",
              "    }\n",
              "</style>\n",
              "<table border=\"1\" class=\"dataframe\">\n",
              "  <thead>\n",
              "    <tr style=\"text-align: right;\">\n",
              "      <th></th>\n",
              "      <th>Release_Date</th>\n",
              "      <th>Title</th>\n",
              "      <th>Overview</th>\n",
              "      <th>Popularity</th>\n",
              "      <th>Vote_Count</th>\n",
              "      <th>Vote_Average</th>\n",
              "      <th>Original_Language</th>\n",
              "      <th>Genre</th>\n",
              "      <th>Poster_Url</th>\n",
              "    </tr>\n",
              "  </thead>\n",
              "  <tbody>\n",
              "    <tr>\n",
              "      <th>0</th>\n",
              "      <td>2021</td>\n",
              "      <td>Spider-Man: No Way Home</td>\n",
              "      <td>Peter Parker is unmasked and no longer able to...</td>\n",
              "      <td>5083.954</td>\n",
              "      <td>8940</td>\n",
              "      <td>8.3</td>\n",
              "      <td>en</td>\n",
              "      <td>Action, Adventure, Science Fiction</td>\n",
              "      <td>https://image.tmdb.org/t/p/original/1g0dhYtq4i...</td>\n",
              "    </tr>\n",
              "    <tr>\n",
              "      <th>1</th>\n",
              "      <td>2022</td>\n",
              "      <td>The Batman</td>\n",
              "      <td>In his second year of fighting crime, Batman u...</td>\n",
              "      <td>3827.658</td>\n",
              "      <td>1151</td>\n",
              "      <td>8.1</td>\n",
              "      <td>en</td>\n",
              "      <td>Crime, Mystery, Thriller</td>\n",
              "      <td>https://image.tmdb.org/t/p/original/74xTEgt7R3...</td>\n",
              "    </tr>\n",
              "    <tr>\n",
              "      <th>2</th>\n",
              "      <td>2022</td>\n",
              "      <td>No Exit</td>\n",
              "      <td>Stranded at a rest stop in the mountains durin...</td>\n",
              "      <td>2618.087</td>\n",
              "      <td>122</td>\n",
              "      <td>6.3</td>\n",
              "      <td>en</td>\n",
              "      <td>Thriller</td>\n",
              "      <td>https://image.tmdb.org/t/p/original/vDHsLnOWKl...</td>\n",
              "    </tr>\n",
              "    <tr>\n",
              "      <th>3</th>\n",
              "      <td>2021</td>\n",
              "      <td>Encanto</td>\n",
              "      <td>The tale of an extraordinary family, the Madri...</td>\n",
              "      <td>2402.201</td>\n",
              "      <td>5076</td>\n",
              "      <td>7.7</td>\n",
              "      <td>en</td>\n",
              "      <td>Animation, Comedy, Family, Fantasy</td>\n",
              "      <td>https://image.tmdb.org/t/p/original/4j0PNHkMr5...</td>\n",
              "    </tr>\n",
              "    <tr>\n",
              "      <th>4</th>\n",
              "      <td>2021</td>\n",
              "      <td>The King's Man</td>\n",
              "      <td>As a collection of history's worst tyrants and...</td>\n",
              "      <td>1895.511</td>\n",
              "      <td>1793</td>\n",
              "      <td>7.0</td>\n",
              "      <td>en</td>\n",
              "      <td>Action, Adventure, Thriller, War</td>\n",
              "      <td>https://image.tmdb.org/t/p/original/aq4Pwv5Xeu...</td>\n",
              "    </tr>\n",
              "  </tbody>\n",
              "</table>\n",
              "</div>"
            ],
            "text/plain": [
              "   Release_Date                    Title  \\\n",
              "0          2021  Spider-Man: No Way Home   \n",
              "1          2022               The Batman   \n",
              "2          2022                  No Exit   \n",
              "3          2021                  Encanto   \n",
              "4          2021           The King's Man   \n",
              "\n",
              "                                            Overview  Popularity  Vote_Count  \\\n",
              "0  Peter Parker is unmasked and no longer able to...    5083.954        8940   \n",
              "1  In his second year of fighting crime, Batman u...    3827.658        1151   \n",
              "2  Stranded at a rest stop in the mountains durin...    2618.087         122   \n",
              "3  The tale of an extraordinary family, the Madri...    2402.201        5076   \n",
              "4  As a collection of history's worst tyrants and...    1895.511        1793   \n",
              "\n",
              "   Vote_Average Original_Language                               Genre  \\\n",
              "0           8.3                en  Action, Adventure, Science Fiction   \n",
              "1           8.1                en            Crime, Mystery, Thriller   \n",
              "2           6.3                en                            Thriller   \n",
              "3           7.7                en  Animation, Comedy, Family, Fantasy   \n",
              "4           7.0                en    Action, Adventure, Thriller, War   \n",
              "\n",
              "                                          Poster_Url  \n",
              "0  https://image.tmdb.org/t/p/original/1g0dhYtq4i...  \n",
              "1  https://image.tmdb.org/t/p/original/74xTEgt7R3...  \n",
              "2  https://image.tmdb.org/t/p/original/vDHsLnOWKl...  \n",
              "3  https://image.tmdb.org/t/p/original/4j0PNHkMr5...  \n",
              "4  https://image.tmdb.org/t/p/original/aq4Pwv5Xeu...  "
            ]
          },
          "execution_count": 14,
          "metadata": {},
          "output_type": "execute_result"
        }
      ],
      "source": [
        "df.head()"
      ]
    },
    {
      "cell_type": "markdown",
      "id": "441d3ddc-1059-44b7-8306-992a4f077215",
      "metadata": {
        "id": "441d3ddc-1059-44b7-8306-992a4f077215"
      },
      "source": [
        "dropping the columns"
      ]
    },
    {
      "cell_type": "code",
      "execution_count": null,
      "id": "e5a883d5-ded3-422c-a1db-ebb18a001fde",
      "metadata": {
        "id": "e5a883d5-ded3-422c-a1db-ebb18a001fde"
      },
      "outputs": [],
      "source": [
        "cols = ['Overview','Original_Language','Poster_Url']"
      ]
    },
    {
      "cell_type": "code",
      "execution_count": null,
      "id": "aaf3fdb8-aa86-4f4d-8d97-be89f5bcac41",
      "metadata": {
        "id": "aaf3fdb8-aa86-4f4d-8d97-be89f5bcac41",
        "outputId": "9834373f-adbe-4389-94a9-5fab64487672"
      },
      "outputs": [
        {
          "data": {
            "text/plain": [
              "Index(['Release_Date', 'Title', 'Popularity', 'Vote_Count', 'Vote_Average',\n",
              "       'Genre'],\n",
              "      dtype='object')"
            ]
          },
          "execution_count": 16,
          "metadata": {},
          "output_type": "execute_result"
        }
      ],
      "source": [
        "df.drop(cols,axis = 1,inplace = True)\n",
        "df.columns"
      ]
    },
    {
      "cell_type": "code",
      "execution_count": null,
      "id": "dbfd15de-4569-4f34-a16c-ad6a95ec4d35",
      "metadata": {
        "id": "dbfd15de-4569-4f34-a16c-ad6a95ec4d35",
        "outputId": "aecfc061-9a7b-4482-d3dd-b46192abf79a"
      },
      "outputs": [
        {
          "data": {
            "text/html": [
              "<div>\n",
              "<style scoped>\n",
              "    .dataframe tbody tr th:only-of-type {\n",
              "        vertical-align: middle;\n",
              "    }\n",
              "\n",
              "    .dataframe tbody tr th {\n",
              "        vertical-align: top;\n",
              "    }\n",
              "\n",
              "    .dataframe thead th {\n",
              "        text-align: right;\n",
              "    }\n",
              "</style>\n",
              "<table border=\"1\" class=\"dataframe\">\n",
              "  <thead>\n",
              "    <tr style=\"text-align: right;\">\n",
              "      <th></th>\n",
              "      <th>Release_Date</th>\n",
              "      <th>Title</th>\n",
              "      <th>Popularity</th>\n",
              "      <th>Vote_Count</th>\n",
              "      <th>Vote_Average</th>\n",
              "      <th>Genre</th>\n",
              "    </tr>\n",
              "  </thead>\n",
              "  <tbody>\n",
              "    <tr>\n",
              "      <th>0</th>\n",
              "      <td>2021</td>\n",
              "      <td>Spider-Man: No Way Home</td>\n",
              "      <td>5083.954</td>\n",
              "      <td>8940</td>\n",
              "      <td>8.3</td>\n",
              "      <td>Action, Adventure, Science Fiction</td>\n",
              "    </tr>\n",
              "    <tr>\n",
              "      <th>1</th>\n",
              "      <td>2022</td>\n",
              "      <td>The Batman</td>\n",
              "      <td>3827.658</td>\n",
              "      <td>1151</td>\n",
              "      <td>8.1</td>\n",
              "      <td>Crime, Mystery, Thriller</td>\n",
              "    </tr>\n",
              "    <tr>\n",
              "      <th>2</th>\n",
              "      <td>2022</td>\n",
              "      <td>No Exit</td>\n",
              "      <td>2618.087</td>\n",
              "      <td>122</td>\n",
              "      <td>6.3</td>\n",
              "      <td>Thriller</td>\n",
              "    </tr>\n",
              "    <tr>\n",
              "      <th>3</th>\n",
              "      <td>2021</td>\n",
              "      <td>Encanto</td>\n",
              "      <td>2402.201</td>\n",
              "      <td>5076</td>\n",
              "      <td>7.7</td>\n",
              "      <td>Animation, Comedy, Family, Fantasy</td>\n",
              "    </tr>\n",
              "    <tr>\n",
              "      <th>4</th>\n",
              "      <td>2021</td>\n",
              "      <td>The King's Man</td>\n",
              "      <td>1895.511</td>\n",
              "      <td>1793</td>\n",
              "      <td>7.0</td>\n",
              "      <td>Action, Adventure, Thriller, War</td>\n",
              "    </tr>\n",
              "  </tbody>\n",
              "</table>\n",
              "</div>"
            ],
            "text/plain": [
              "   Release_Date                    Title  Popularity  Vote_Count  \\\n",
              "0          2021  Spider-Man: No Way Home    5083.954        8940   \n",
              "1          2022               The Batman    3827.658        1151   \n",
              "2          2022                  No Exit    2618.087         122   \n",
              "3          2021                  Encanto    2402.201        5076   \n",
              "4          2021           The King's Man    1895.511        1793   \n",
              "\n",
              "   Vote_Average                               Genre  \n",
              "0           8.3  Action, Adventure, Science Fiction  \n",
              "1           8.1            Crime, Mystery, Thriller  \n",
              "2           6.3                            Thriller  \n",
              "3           7.7  Animation, Comedy, Family, Fantasy  \n",
              "4           7.0    Action, Adventure, Thriller, War  "
            ]
          },
          "execution_count": 17,
          "metadata": {},
          "output_type": "execute_result"
        }
      ],
      "source": [
        "df.head()"
      ]
    },
    {
      "cell_type": "markdown",
      "id": "34aa2a0c-3d01-4320-8feb-e8ba87589ec4",
      "metadata": {
        "id": "34aa2a0c-3d01-4320-8feb-e8ba87589ec4"
      },
      "source": [
        "categorizing the vote_average column\n",
        "we could cut the Vote_Average column and make 4 categories : popular average below_avg not_popular to describe it more using categorize_col() function provided above"
      ]
    },
    {
      "cell_type": "code",
      "execution_count": null,
      "id": "6069dfcc-748d-47ee-84e9-9e7c9103bf23",
      "metadata": {
        "id": "6069dfcc-748d-47ee-84e9-9e7c9103bf23"
      },
      "outputs": [],
      "source": [
        "def categorize_col(df, col, labels):\n",
        "    edges = [df[col].describe()['min'],\n",
        "             df[col].describe()['25%'],\n",
        "             df[col].describe()['50%'],\n",
        "             df[col].describe()['75%'],\n",
        "             df[col].describe()['max']]\n",
        "    df[col] = pd.cut(df[col], edges , labels = labels, duplicates = 'drop')\n",
        "    return df\n",
        "\n",
        ""
      ]
    },
    {
      "cell_type": "code",
      "execution_count": null,
      "id": "d555b713-58b3-4bee-b039-65a1f5a2e9c0",
      "metadata": {
        "id": "d555b713-58b3-4bee-b039-65a1f5a2e9c0"
      },
      "outputs": [],
      "source": [
        "labels = ['not_popular', 'below_avg', 'average', 'popular']"
      ]
    },
    {
      "cell_type": "code",
      "execution_count": null,
      "id": "f58a7c7f-39d0-40b2-85c2-066c1114d898",
      "metadata": {
        "id": "f58a7c7f-39d0-40b2-85c2-066c1114d898",
        "outputId": "d13c390a-aa16-4839-b03a-4af26d6bc83a"
      },
      "outputs": [
        {
          "data": {
            "text/plain": [
              "['popular', 'below_avg', 'average', 'not_popular', NaN]\n",
              "Categories (4, object): ['not_popular' < 'below_avg' < 'average' < 'popular']"
            ]
          },
          "execution_count": 20,
          "metadata": {},
          "output_type": "execute_result"
        }
      ],
      "source": [
        "categorize_col(df, 'Vote_Average', labels)\n",
        "df['Vote_Average'].unique()"
      ]
    },
    {
      "cell_type": "code",
      "execution_count": null,
      "id": "6ccec841-0840-492b-9caa-2771806a39cc",
      "metadata": {
        "id": "6ccec841-0840-492b-9caa-2771806a39cc",
        "outputId": "eef091e6-c30a-4732-9d7b-065c81122ed4"
      },
      "outputs": [
        {
          "data": {
            "text/html": [
              "<div>\n",
              "<style scoped>\n",
              "    .dataframe tbody tr th:only-of-type {\n",
              "        vertical-align: middle;\n",
              "    }\n",
              "\n",
              "    .dataframe tbody tr th {\n",
              "        vertical-align: top;\n",
              "    }\n",
              "\n",
              "    .dataframe thead th {\n",
              "        text-align: right;\n",
              "    }\n",
              "</style>\n",
              "<table border=\"1\" class=\"dataframe\">\n",
              "  <thead>\n",
              "    <tr style=\"text-align: right;\">\n",
              "      <th></th>\n",
              "      <th>Release_Date</th>\n",
              "      <th>Title</th>\n",
              "      <th>Popularity</th>\n",
              "      <th>Vote_Count</th>\n",
              "      <th>Vote_Average</th>\n",
              "      <th>Genre</th>\n",
              "    </tr>\n",
              "  </thead>\n",
              "  <tbody>\n",
              "    <tr>\n",
              "      <th>0</th>\n",
              "      <td>2021</td>\n",
              "      <td>Spider-Man: No Way Home</td>\n",
              "      <td>5083.954</td>\n",
              "      <td>8940</td>\n",
              "      <td>popular</td>\n",
              "      <td>Action, Adventure, Science Fiction</td>\n",
              "    </tr>\n",
              "    <tr>\n",
              "      <th>1</th>\n",
              "      <td>2022</td>\n",
              "      <td>The Batman</td>\n",
              "      <td>3827.658</td>\n",
              "      <td>1151</td>\n",
              "      <td>popular</td>\n",
              "      <td>Crime, Mystery, Thriller</td>\n",
              "    </tr>\n",
              "    <tr>\n",
              "      <th>2</th>\n",
              "      <td>2022</td>\n",
              "      <td>No Exit</td>\n",
              "      <td>2618.087</td>\n",
              "      <td>122</td>\n",
              "      <td>below_avg</td>\n",
              "      <td>Thriller</td>\n",
              "    </tr>\n",
              "    <tr>\n",
              "      <th>3</th>\n",
              "      <td>2021</td>\n",
              "      <td>Encanto</td>\n",
              "      <td>2402.201</td>\n",
              "      <td>5076</td>\n",
              "      <td>popular</td>\n",
              "      <td>Animation, Comedy, Family, Fantasy</td>\n",
              "    </tr>\n",
              "    <tr>\n",
              "      <th>4</th>\n",
              "      <td>2021</td>\n",
              "      <td>The King's Man</td>\n",
              "      <td>1895.511</td>\n",
              "      <td>1793</td>\n",
              "      <td>average</td>\n",
              "      <td>Action, Adventure, Thriller, War</td>\n",
              "    </tr>\n",
              "  </tbody>\n",
              "</table>\n",
              "</div>"
            ],
            "text/plain": [
              "   Release_Date                    Title  Popularity  Vote_Count Vote_Average  \\\n",
              "0          2021  Spider-Man: No Way Home    5083.954        8940      popular   \n",
              "1          2022               The Batman    3827.658        1151      popular   \n",
              "2          2022                  No Exit    2618.087         122    below_avg   \n",
              "3          2021                  Encanto    2402.201        5076      popular   \n",
              "4          2021           The King's Man    1895.511        1793      average   \n",
              "\n",
              "                                Genre  \n",
              "0  Action, Adventure, Science Fiction  \n",
              "1            Crime, Mystery, Thriller  \n",
              "2                            Thriller  \n",
              "3  Animation, Comedy, Family, Fantasy  \n",
              "4    Action, Adventure, Thriller, War  "
            ]
          },
          "execution_count": 21,
          "metadata": {},
          "output_type": "execute_result"
        }
      ],
      "source": [
        "df.head()"
      ]
    },
    {
      "cell_type": "code",
      "execution_count": null,
      "id": "86789351-cd1c-412f-a117-d4bdd14e2c5e",
      "metadata": {
        "id": "86789351-cd1c-412f-a117-d4bdd14e2c5e",
        "outputId": "7659ab9b-3b47-4fc4-d2f3-0e4931f8b29e"
      },
      "outputs": [
        {
          "data": {
            "text/plain": [
              "Vote_Average\n",
              "not_popular    2467\n",
              "popular        2450\n",
              "average        2412\n",
              "below_avg      2398\n",
              "Name: count, dtype: int64"
            ]
          },
          "execution_count": 22,
          "metadata": {},
          "output_type": "execute_result"
        }
      ],
      "source": [
        "df['Vote_Average'].value_counts()\n"
      ]
    },
    {
      "cell_type": "code",
      "execution_count": null,
      "id": "f0d3c84f-d368-4bc7-9e8e-c48197d8c618",
      "metadata": {
        "id": "f0d3c84f-d368-4bc7-9e8e-c48197d8c618",
        "outputId": "15bcc807-1441-4e68-809a-4ba8e1b92dbd"
      },
      "outputs": [
        {
          "data": {
            "text/plain": [
              "Release_Date    0\n",
              "Title           0\n",
              "Popularity      0\n",
              "Vote_Count      0\n",
              "Vote_Average    0\n",
              "Genre           0\n",
              "dtype: int64"
            ]
          },
          "execution_count": 23,
          "metadata": {},
          "output_type": "execute_result"
        }
      ],
      "source": [
        "df.dropna(inplace = True)\n",
        "df.isna().sum()"
      ]
    },
    {
      "cell_type": "code",
      "execution_count": null,
      "id": "15b6e3ef-ff30-4cc8-976a-ee6001e48570",
      "metadata": {
        "id": "15b6e3ef-ff30-4cc8-976a-ee6001e48570",
        "outputId": "37542864-b02f-43e9-c81e-a8b548e0cdf3"
      },
      "outputs": [
        {
          "data": {
            "text/html": [
              "<div>\n",
              "<style scoped>\n",
              "    .dataframe tbody tr th:only-of-type {\n",
              "        vertical-align: middle;\n",
              "    }\n",
              "\n",
              "    .dataframe tbody tr th {\n",
              "        vertical-align: top;\n",
              "    }\n",
              "\n",
              "    .dataframe thead th {\n",
              "        text-align: right;\n",
              "    }\n",
              "</style>\n",
              "<table border=\"1\" class=\"dataframe\">\n",
              "  <thead>\n",
              "    <tr style=\"text-align: right;\">\n",
              "      <th></th>\n",
              "      <th>Release_Date</th>\n",
              "      <th>Title</th>\n",
              "      <th>Popularity</th>\n",
              "      <th>Vote_Count</th>\n",
              "      <th>Vote_Average</th>\n",
              "      <th>Genre</th>\n",
              "    </tr>\n",
              "  </thead>\n",
              "  <tbody>\n",
              "    <tr>\n",
              "      <th>0</th>\n",
              "      <td>2021</td>\n",
              "      <td>Spider-Man: No Way Home</td>\n",
              "      <td>5083.954</td>\n",
              "      <td>8940</td>\n",
              "      <td>popular</td>\n",
              "      <td>Action, Adventure, Science Fiction</td>\n",
              "    </tr>\n",
              "    <tr>\n",
              "      <th>1</th>\n",
              "      <td>2022</td>\n",
              "      <td>The Batman</td>\n",
              "      <td>3827.658</td>\n",
              "      <td>1151</td>\n",
              "      <td>popular</td>\n",
              "      <td>Crime, Mystery, Thriller</td>\n",
              "    </tr>\n",
              "    <tr>\n",
              "      <th>2</th>\n",
              "      <td>2022</td>\n",
              "      <td>No Exit</td>\n",
              "      <td>2618.087</td>\n",
              "      <td>122</td>\n",
              "      <td>below_avg</td>\n",
              "      <td>Thriller</td>\n",
              "    </tr>\n",
              "    <tr>\n",
              "      <th>3</th>\n",
              "      <td>2021</td>\n",
              "      <td>Encanto</td>\n",
              "      <td>2402.201</td>\n",
              "      <td>5076</td>\n",
              "      <td>popular</td>\n",
              "      <td>Animation, Comedy, Family, Fantasy</td>\n",
              "    </tr>\n",
              "    <tr>\n",
              "      <th>4</th>\n",
              "      <td>2021</td>\n",
              "      <td>The King's Man</td>\n",
              "      <td>1895.511</td>\n",
              "      <td>1793</td>\n",
              "      <td>average</td>\n",
              "      <td>Action, Adventure, Thriller, War</td>\n",
              "    </tr>\n",
              "  </tbody>\n",
              "</table>\n",
              "</div>"
            ],
            "text/plain": [
              "   Release_Date                    Title  Popularity  Vote_Count Vote_Average  \\\n",
              "0          2021  Spider-Man: No Way Home    5083.954        8940      popular   \n",
              "1          2022               The Batman    3827.658        1151      popular   \n",
              "2          2022                  No Exit    2618.087         122    below_avg   \n",
              "3          2021                  Encanto    2402.201        5076      popular   \n",
              "4          2021           The King's Man    1895.511        1793      average   \n",
              "\n",
              "                                Genre  \n",
              "0  Action, Adventure, Science Fiction  \n",
              "1            Crime, Mystery, Thriller  \n",
              "2                            Thriller  \n",
              "3  Animation, Comedy, Family, Fantasy  \n",
              "4    Action, Adventure, Thriller, War  "
            ]
          },
          "execution_count": 24,
          "metadata": {},
          "output_type": "execute_result"
        }
      ],
      "source": [
        "df.head()"
      ]
    },
    {
      "cell_type": "markdown",
      "id": "2da6db4e-69fb-4ef3-8ff9-6b3c292fab16",
      "metadata": {
        "id": "2da6db4e-69fb-4ef3-8ff9-6b3c292fab16"
      },
      "source": [
        "we will split gernre in a list and then explode our dataframe to have only one genre per row for each movie"
      ]
    },
    {
      "cell_type": "code",
      "execution_count": null,
      "id": "fc4d2752-0940-45fb-befa-18399ebf4284",
      "metadata": {
        "id": "fc4d2752-0940-45fb-befa-18399ebf4284",
        "outputId": "68aa1749-22d2-4c99-e4e0-1facbdaacb39"
      },
      "outputs": [
        {
          "data": {
            "text/html": [
              "<div>\n",
              "<style scoped>\n",
              "    .dataframe tbody tr th:only-of-type {\n",
              "        vertical-align: middle;\n",
              "    }\n",
              "\n",
              "    .dataframe tbody tr th {\n",
              "        vertical-align: top;\n",
              "    }\n",
              "\n",
              "    .dataframe thead th {\n",
              "        text-align: right;\n",
              "    }\n",
              "</style>\n",
              "<table border=\"1\" class=\"dataframe\">\n",
              "  <thead>\n",
              "    <tr style=\"text-align: right;\">\n",
              "      <th></th>\n",
              "      <th>Release_Date</th>\n",
              "      <th>Title</th>\n",
              "      <th>Popularity</th>\n",
              "      <th>Vote_Count</th>\n",
              "      <th>Vote_Average</th>\n",
              "      <th>Genre</th>\n",
              "    </tr>\n",
              "  </thead>\n",
              "  <tbody>\n",
              "    <tr>\n",
              "      <th>0</th>\n",
              "      <td>2021</td>\n",
              "      <td>Spider-Man: No Way Home</td>\n",
              "      <td>5083.954</td>\n",
              "      <td>8940</td>\n",
              "      <td>popular</td>\n",
              "      <td>Action</td>\n",
              "    </tr>\n",
              "    <tr>\n",
              "      <th>1</th>\n",
              "      <td>2021</td>\n",
              "      <td>Spider-Man: No Way Home</td>\n",
              "      <td>5083.954</td>\n",
              "      <td>8940</td>\n",
              "      <td>popular</td>\n",
              "      <td>Adventure</td>\n",
              "    </tr>\n",
              "    <tr>\n",
              "      <th>2</th>\n",
              "      <td>2021</td>\n",
              "      <td>Spider-Man: No Way Home</td>\n",
              "      <td>5083.954</td>\n",
              "      <td>8940</td>\n",
              "      <td>popular</td>\n",
              "      <td>Science Fiction</td>\n",
              "    </tr>\n",
              "    <tr>\n",
              "      <th>3</th>\n",
              "      <td>2022</td>\n",
              "      <td>The Batman</td>\n",
              "      <td>3827.658</td>\n",
              "      <td>1151</td>\n",
              "      <td>popular</td>\n",
              "      <td>Crime</td>\n",
              "    </tr>\n",
              "    <tr>\n",
              "      <th>4</th>\n",
              "      <td>2022</td>\n",
              "      <td>The Batman</td>\n",
              "      <td>3827.658</td>\n",
              "      <td>1151</td>\n",
              "      <td>popular</td>\n",
              "      <td>Mystery</td>\n",
              "    </tr>\n",
              "  </tbody>\n",
              "</table>\n",
              "</div>"
            ],
            "text/plain": [
              "   Release_Date                    Title  Popularity  Vote_Count Vote_Average  \\\n",
              "0          2021  Spider-Man: No Way Home    5083.954        8940      popular   \n",
              "1          2021  Spider-Man: No Way Home    5083.954        8940      popular   \n",
              "2          2021  Spider-Man: No Way Home    5083.954        8940      popular   \n",
              "3          2022               The Batman    3827.658        1151      popular   \n",
              "4          2022               The Batman    3827.658        1151      popular   \n",
              "\n",
              "             Genre  \n",
              "0           Action  \n",
              "1        Adventure  \n",
              "2  Science Fiction  \n",
              "3            Crime  \n",
              "4          Mystery  "
            ]
          },
          "execution_count": 37,
          "metadata": {},
          "output_type": "execute_result"
        }
      ],
      "source": [
        "df['Genre'] = df['Genre'].str.split(', ')\n",
        "df = df.explode('Genre').reset_index(drop = True)\n",
        "df.head()"
      ]
    },
    {
      "cell_type": "code",
      "execution_count": null,
      "id": "ad2216e5-0e78-40b6-8ed9-444ea4e84f96",
      "metadata": {
        "id": "ad2216e5-0e78-40b6-8ed9-444ea4e84f96"
      },
      "outputs": [],
      "source": [
        "#casting column into category"
      ]
    },
    {
      "cell_type": "code",
      "execution_count": null,
      "id": "2afef2a3-a3e1-4dde-abf7-110eecbd01ea",
      "metadata": {
        "id": "2afef2a3-a3e1-4dde-abf7-110eecbd01ea",
        "outputId": "7251b69e-5804-4e9d-90b0-a7b0acea8d10"
      },
      "outputs": [
        {
          "data": {
            "text/plain": [
              "CategoricalDtype(categories=['Action', 'Adventure', 'Animation', 'Comedy', 'Crime',\n",
              "                  'Documentary', 'Drama', 'Family', 'Fantasy', 'History',\n",
              "                  'Horror', 'Music', 'Mystery', 'Romance', 'Science Fiction',\n",
              "                  'TV Movie', 'Thriller', 'War', 'Western'],\n",
              ", ordered=False, categories_dtype=object)"
            ]
          },
          "execution_count": 39,
          "metadata": {},
          "output_type": "execute_result"
        }
      ],
      "source": [
        "df['Genre'] = df['Genre'].astype('category')\n",
        "df['Genre'].dtypes"
      ]
    },
    {
      "cell_type": "code",
      "execution_count": null,
      "id": "2e9c2899-4c35-4f50-8af1-68e62136a6d3",
      "metadata": {
        "id": "2e9c2899-4c35-4f50-8af1-68e62136a6d3",
        "outputId": "b84a8bbb-1bf0-456e-fb53-cc8516c8262b"
      },
      "outputs": [
        {
          "name": "stdout",
          "output_type": "stream",
          "text": [
            "<class 'pandas.core.frame.DataFrame'>\n",
            "RangeIndex: 25552 entries, 0 to 25551\n",
            "Data columns (total 6 columns):\n",
            " #   Column        Non-Null Count  Dtype   \n",
            "---  ------        --------------  -----   \n",
            " 0   Release_Date  25552 non-null  int32   \n",
            " 1   Title         25552 non-null  object  \n",
            " 2   Popularity    25552 non-null  float64 \n",
            " 3   Vote_Count    25552 non-null  int64   \n",
            " 4   Vote_Average  25552 non-null  category\n",
            " 5   Genre         25552 non-null  category\n",
            "dtypes: category(2), float64(1), int32(1), int64(1), object(1)\n",
            "memory usage: 749.6+ KB\n"
          ]
        }
      ],
      "source": [
        "df.info()"
      ]
    },
    {
      "cell_type": "code",
      "execution_count": null,
      "id": "9c11380b-f9d2-4516-a22b-266febf8a7f0",
      "metadata": {
        "id": "9c11380b-f9d2-4516-a22b-266febf8a7f0",
        "outputId": "6cfea688-d02b-40f0-df1b-794ea58ca63e"
      },
      "outputs": [
        {
          "data": {
            "text/plain": [
              "Release_Date     100\n",
              "Title           9415\n",
              "Popularity      8088\n",
              "Vote_Count      3265\n",
              "Vote_Average       4\n",
              "Genre             19\n",
              "dtype: int64"
            ]
          },
          "execution_count": 42,
          "metadata": {},
          "output_type": "execute_result"
        }
      ],
      "source": [
        "df.nunique()"
      ]
    },
    {
      "cell_type": "code",
      "execution_count": null,
      "id": "42058749-9d5e-4e01-9755-5a5d7358dde8",
      "metadata": {
        "id": "42058749-9d5e-4e01-9755-5a5d7358dde8",
        "outputId": "8c642cf1-4d45-4730-af95-7e10185fc9c7"
      },
      "outputs": [
        {
          "data": {
            "text/html": [
              "<div>\n",
              "<style scoped>\n",
              "    .dataframe tbody tr th:only-of-type {\n",
              "        vertical-align: middle;\n",
              "    }\n",
              "\n",
              "    .dataframe tbody tr th {\n",
              "        vertical-align: top;\n",
              "    }\n",
              "\n",
              "    .dataframe thead th {\n",
              "        text-align: right;\n",
              "    }\n",
              "</style>\n",
              "<table border=\"1\" class=\"dataframe\">\n",
              "  <thead>\n",
              "    <tr style=\"text-align: right;\">\n",
              "      <th></th>\n",
              "      <th>Release_Date</th>\n",
              "      <th>Title</th>\n",
              "      <th>Popularity</th>\n",
              "      <th>Vote_Count</th>\n",
              "      <th>Vote_Average</th>\n",
              "      <th>Genre</th>\n",
              "    </tr>\n",
              "  </thead>\n",
              "  <tbody>\n",
              "    <tr>\n",
              "      <th>0</th>\n",
              "      <td>2021</td>\n",
              "      <td>Spider-Man: No Way Home</td>\n",
              "      <td>5083.954</td>\n",
              "      <td>8940</td>\n",
              "      <td>popular</td>\n",
              "      <td>Action</td>\n",
              "    </tr>\n",
              "    <tr>\n",
              "      <th>1</th>\n",
              "      <td>2021</td>\n",
              "      <td>Spider-Man: No Way Home</td>\n",
              "      <td>5083.954</td>\n",
              "      <td>8940</td>\n",
              "      <td>popular</td>\n",
              "      <td>Adventure</td>\n",
              "    </tr>\n",
              "    <tr>\n",
              "      <th>2</th>\n",
              "      <td>2021</td>\n",
              "      <td>Spider-Man: No Way Home</td>\n",
              "      <td>5083.954</td>\n",
              "      <td>8940</td>\n",
              "      <td>popular</td>\n",
              "      <td>Science Fiction</td>\n",
              "    </tr>\n",
              "    <tr>\n",
              "      <th>3</th>\n",
              "      <td>2022</td>\n",
              "      <td>The Batman</td>\n",
              "      <td>3827.658</td>\n",
              "      <td>1151</td>\n",
              "      <td>popular</td>\n",
              "      <td>Crime</td>\n",
              "    </tr>\n",
              "    <tr>\n",
              "      <th>4</th>\n",
              "      <td>2022</td>\n",
              "      <td>The Batman</td>\n",
              "      <td>3827.658</td>\n",
              "      <td>1151</td>\n",
              "      <td>popular</td>\n",
              "      <td>Mystery</td>\n",
              "    </tr>\n",
              "  </tbody>\n",
              "</table>\n",
              "</div>"
            ],
            "text/plain": [
              "   Release_Date                    Title  Popularity  Vote_Count Vote_Average  \\\n",
              "0          2021  Spider-Man: No Way Home    5083.954        8940      popular   \n",
              "1          2021  Spider-Man: No Way Home    5083.954        8940      popular   \n",
              "2          2021  Spider-Man: No Way Home    5083.954        8940      popular   \n",
              "3          2022               The Batman    3827.658        1151      popular   \n",
              "4          2022               The Batman    3827.658        1151      popular   \n",
              "\n",
              "             Genre  \n",
              "0           Action  \n",
              "1        Adventure  \n",
              "2  Science Fiction  \n",
              "3            Crime  \n",
              "4          Mystery  "
            ]
          },
          "execution_count": 43,
          "metadata": {},
          "output_type": "execute_result"
        }
      ],
      "source": [
        "df.head()"
      ]
    },
    {
      "cell_type": "markdown",
      "id": "c4daf0eb-4a18-4f43-b4c7-f3a9421dc222",
      "metadata": {
        "id": "c4daf0eb-4a18-4f43-b4c7-f3a9421dc222"
      },
      "source": [
        "data visualization"
      ]
    },
    {
      "cell_type": "code",
      "execution_count": null,
      "id": "ceba66d2-519b-457e-b977-9c28cbf83642",
      "metadata": {
        "id": "ceba66d2-519b-457e-b977-9c28cbf83642"
      },
      "outputs": [],
      "source": [
        "sns.set_style('whitegrid')"
      ]
    },
    {
      "cell_type": "raw",
      "id": "4441bb0f-5125-4d36-b993-49c3bb34ad2e",
      "metadata": {
        "id": "4441bb0f-5125-4d36-b993-49c3bb34ad2e"
      },
      "source": [
        "what is the most frequent genre of movies released on netflix?"
      ]
    },
    {
      "cell_type": "code",
      "execution_count": null,
      "id": "959f0132-0875-405f-8182-d9cd57407617",
      "metadata": {
        "id": "959f0132-0875-405f-8182-d9cd57407617",
        "outputId": "6922e6ce-7c6c-43f2-8c11-99c1fac2cee3"
      },
      "outputs": [
        {
          "data": {
            "text/plain": [
              "count      9727\n",
              "unique     2324\n",
              "top       Drama\n",
              "freq        458\n",
              "Name: Genre, dtype: object"
            ]
          },
          "execution_count": 25,
          "metadata": {},
          "output_type": "execute_result"
        }
      ],
      "source": [
        "df['Genre'].describe()"
      ]
    },
    {
      "cell_type": "code",
      "execution_count": null,
      "id": "590686fe-50df-4e9f-a6b0-d39d3502050c",
      "metadata": {
        "id": "590686fe-50df-4e9f-a6b0-d39d3502050c",
        "outputId": "d3ec1718-fa5c-4ae4-c037-10472df188bd"
      },
      "outputs": [
        {
          "data": {
            "image/png": "[encoded data removed]",
            "text/plain": [
              "<Figure size 511.111x500 with 1 Axes>"
            ]
          },
          "metadata": {},
          "output_type": "display_data"
        }
      ],
      "source": [
        "sns.catplot( y = 'Genre' , data = df, kind = 'count', order = df['Genre'].value_counts().index, color = '#4287f5')\n",
        "plt.title('Genre column distribution')\n",
        "plt.show()"
      ]
    },
    {
      "cell_type": "markdown",
      "id": "cbac46cc-460f-43ad-ba20-5f1d6340ab56",
      "metadata": {
        "id": "cbac46cc-460f-43ad-ba20-5f1d6340ab56"
      },
      "source": [
        "which has highest votes in vote avg column?"
      ]
    },
    {
      "cell_type": "code",
      "execution_count": null,
      "id": "48e14558-594c-41f0-859c-8655d77487f6",
      "metadata": {
        "id": "48e14558-594c-41f0-859c-8655d77487f6",
        "outputId": "1683c1e1-4b85-4872-a034-b02083d02faa"
      },
      "outputs": [
        {
          "data": {
            "text/html": [
              "<div>\n",
              "<style scoped>\n",
              "    .dataframe tbody tr th:only-of-type {\n",
              "        vertical-align: middle;\n",
              "    }\n",
              "\n",
              "    .dataframe tbody tr th {\n",
              "        vertical-align: top;\n",
              "    }\n",
              "\n",
              "    .dataframe thead th {\n",
              "        text-align: right;\n",
              "    }\n",
              "</style>\n",
              "<table border=\"1\" class=\"dataframe\">\n",
              "  <thead>\n",
              "    <tr style=\"text-align: right;\">\n",
              "      <th></th>\n",
              "      <th>Release_Date</th>\n",
              "      <th>Title</th>\n",
              "      <th>Popularity</th>\n",
              "      <th>Vote_Count</th>\n",
              "      <th>Vote_Average</th>\n",
              "      <th>Genre</th>\n",
              "    </tr>\n",
              "  </thead>\n",
              "  <tbody>\n",
              "    <tr>\n",
              "      <th>0</th>\n",
              "      <td>2021</td>\n",
              "      <td>Spider-Man: No Way Home</td>\n",
              "      <td>5083.954</td>\n",
              "      <td>8940</td>\n",
              "      <td>popular</td>\n",
              "      <td>Action</td>\n",
              "    </tr>\n",
              "    <tr>\n",
              "      <th>1</th>\n",
              "      <td>2021</td>\n",
              "      <td>Spider-Man: No Way Home</td>\n",
              "      <td>5083.954</td>\n",
              "      <td>8940</td>\n",
              "      <td>popular</td>\n",
              "      <td>Adventure</td>\n",
              "    </tr>\n",
              "    <tr>\n",
              "      <th>2</th>\n",
              "      <td>2021</td>\n",
              "      <td>Spider-Man: No Way Home</td>\n",
              "      <td>5083.954</td>\n",
              "      <td>8940</td>\n",
              "      <td>popular</td>\n",
              "      <td>Science Fiction</td>\n",
              "    </tr>\n",
              "    <tr>\n",
              "      <th>3</th>\n",
              "      <td>2022</td>\n",
              "      <td>The Batman</td>\n",
              "      <td>3827.658</td>\n",
              "      <td>1151</td>\n",
              "      <td>popular</td>\n",
              "      <td>Crime</td>\n",
              "    </tr>\n",
              "    <tr>\n",
              "      <th>4</th>\n",
              "      <td>2022</td>\n",
              "      <td>The Batman</td>\n",
              "      <td>3827.658</td>\n",
              "      <td>1151</td>\n",
              "      <td>popular</td>\n",
              "      <td>Mystery</td>\n",
              "    </tr>\n",
              "  </tbody>\n",
              "</table>\n",
              "</div>"
            ],
            "text/plain": [
              "   Release_Date                    Title  Popularity  Vote_Count Vote_Average  \\\n",
              "0          2021  Spider-Man: No Way Home    5083.954        8940      popular   \n",
              "1          2021  Spider-Man: No Way Home    5083.954        8940      popular   \n",
              "2          2021  Spider-Man: No Way Home    5083.954        8940      popular   \n",
              "3          2022               The Batman    3827.658        1151      popular   \n",
              "4          2022               The Batman    3827.658        1151      popular   \n",
              "\n",
              "             Genre  \n",
              "0           Action  \n",
              "1        Adventure  \n",
              "2  Science Fiction  \n",
              "3            Crime  \n",
              "4          Mystery  "
            ]
          },
          "execution_count": 49,
          "metadata": {},
          "output_type": "execute_result"
        }
      ],
      "source": [
        "df.head()"
      ]
    },
    {
      "cell_type": "code",
      "execution_count": null,
      "id": "f95681a9-fe93-4725-a8b5-a5e66c44f478",
      "metadata": {
        "id": "f95681a9-fe93-4725-a8b5-a5e66c44f478",
        "outputId": "c3c5014e-aa07-447d-a320-058eaa641511"
      },
      "outputs": [
        {
          "data": {
            "image/png": "[encoded data removed]",
            "text/plain": [
              "<Figure size 511.111x500 with 1 Axes>"
            ]
          },
          "metadata": {},
          "output_type": "display_data"
        }
      ],
      "source": [
        "sns.catplot(y = 'Vote_Average', data = df , kind = 'count', order = df['Vote_Average'].value_counts().index, color = '#4287f5')\n",
        "plt.title('Votes distribution')\n",
        "plt.show()"
      ]
    },
    {
      "cell_type": "code",
      "execution_count": null,
      "id": "94f48f10-7624-484e-b376-02eddec3c857",
      "metadata": {
        "id": "94f48f10-7624-484e-b376-02eddec3c857"
      },
      "outputs": [],
      "source": []
    }
  ],
  "metadata": {
    "kernelspec": {
      "display_name": "Python 3 (ipykernel)",
      "language": "python",
      "name": "python3"
    },
    "language_info": {
      "codemirror_mode": {
        "name": "ipython",
        "version": 3
      },
      "file_extension": ".py",
      "mimetype": "text/x-python",
      "name": "python",
      "nbconvert_exporter": "python",
      "pygments_lexer": "ipython3",
      "version": "3.12.7"
    },
    "colab": {
      "provenance": [],
      "include_colab_link": true
    }
  },
  "nbformat": 4,
  "nbformat_minor": 5
}